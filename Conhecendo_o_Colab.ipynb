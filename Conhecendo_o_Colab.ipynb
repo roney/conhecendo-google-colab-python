{
  "nbformat": 4,
  "nbformat_minor": 0,
  "metadata": {
    "colab": {
      "name": "Conhecendo o Colab.ipynb",
      "provenance": []
    },
    "kernelspec": {
      "name": "python3",
      "display_name": "Python 3"
    },
    "language_info": {
      "name": "python"
    }
  },
  "cells": [
    {
      "cell_type": "markdown",
      "source": [
        "<h2>O que é o Colab?</h2>\n",
        "\n",
        "O Colab, ou \"Colaboratory\", permite escrever e executar Python no navegador.  \n",
        "- Nenhuma configuração necessária\n",
        "- Acesso gratuito a GPUs\n",
        "- Compartilhamento fácil\n",
        "- Upload de arquivos\n",
        "- Visualização de Erros"
      ],
      "metadata": {
        "id": "4ojDeuXQu7Mo"
      }
    },
    {
      "cell_type": "markdown",
      "source": [
        "## <strong>Primeiros passos</strong>\n",
        "\n",
        "O documento que você está lendo não é uma página da Web estática, mas sim um ambiente interativo chamado <strong>notebook Colab</strong> que permite escrever e executar código.\n",
        "\n",
        "Por exemplo, aqui está uma <strong>célula de código</strong> com um breve script Python que calcula um valor, armazena-o em uma variável e imprime o resultado:"
      ],
      "metadata": {
        "id": "UuYUygURwbUf"
      }
    },
    {
      "cell_type": "code",
      "source": [
        "soma_de_dois_numeros = 10 + 30\n",
        "soma_de_dois_numeros"
      ],
      "metadata": {
        "id": "Z-mG-L2RweA4"
      },
      "execution_count": null,
      "outputs": []
    },
    {
      "cell_type": "markdown",
      "source": [
        "Para executar o código na célula acima, clique nela e depois pressione o botão **Play** ▶ à esquerda do código ou use o atalho do teclado \"**Command/Ctrl+Enter**\". Para editar o código, basta clicar na célula e começar a editar.\n",
        "\n",
        "`soma_de_dois_numeros = 10 + 30`\n",
        "\n",
        "\n",
        "As variáveis definidas em uma célula podem ser usadas mais tarde em outras células:"
      ],
      "metadata": {
        "id": "wGFrTCYywhm-"
      }
    },
    {
      "cell_type": "code",
      "source": [
        "print(soma_de_dois_numeros)\n",
        "soma_de_dois_numeros"
      ],
      "metadata": {
        "id": "K-8VrNRp1odw"
      },
      "execution_count": null,
      "outputs": []
    },
    {
      "cell_type": "markdown",
      "source": [
        "\n",
        "\n",
        "---\n",
        "\n"
      ],
      "metadata": {
        "id": "kB6Qyeyf1jTu"
      }
    },
    {
      "cell_type": "markdown",
      "source": [
        "*   Os notebooks do Colab permitem combinar <strong>código executável</strong> e <strong>rich text</strong> em um só documento, além de <strong>imagens</strong>, <strong>HTML</strong>, <strong>LaTeX</strong> e muito mais.\n",
        "\n",
        "*   Quando você cria seus próprios notebooks do Colab, eles são armazenados na sua conta do Google Drive. \n",
        " \n",
        "*   É possível compartilhar os notebooks do Colab facilmente e permitir que eles façam comentários ou até editem o documento. \n",
        "\n",
        "*   Os notebooks do Colab são notebooks do <a href=\"https://www.jupyter.org\">Jupyter</a> hospedados no Colab.\n",
        "\n",
        "*   O nome **Jupyter** é um acrônimo criado a partir das linguagens de programação que inicialmente foram aceitas pelo Projeto Jupyter: Julia, Python e R. \n",
        "\n",
        "*   Além dessas, hoje, o Projeto Jupyter suporta também C++, Ruby, Fortran e outras.\n"
      ],
      "metadata": {
        "id": "C0l3MYQLwk3G"
      }
    },
    {
      "cell_type": "markdown",
      "source": [
        "Você também pode adicionar matemática a células de texto usando [LaTeX](http://www.latex-project.org/) para ser renderizado por [MathJax](https://www.mathjax.org). Basta colocar a declaração dentro de um par de sinais **\\$**. \n",
        "\n",
        "> Por exemplo `$\\sqrt{3x-1}+(1+x)^2$` torna-se $\\sqrt{3x-1}+(1+x)^2.$\n",
        "\n",
        "\n",
        "\n",
        "---\n",
        "\n",
        "\n",
        "\n",
        "\n",
        "\n"
      ],
      "metadata": {
        "id": "SmXJONM44JlT"
      }
    },
    {
      "cell_type": "markdown",
      "source": [
        "O Colaboratory compartilha a noção de magia do Jupyter. Existem anotações abreviadas que alteram a forma como o texto de uma célula é executado. Para saber mais, consulte [a página de mágicas do Jupyter](http://nbviewer.jupyter.org/github/ipython/ipython/blob/1.x/examples/notebooks/Cell%20Magics.ipynb)."
      ],
      "metadata": {
        "id": "eBJf3VJp4eOa"
      }
    },
    {
      "cell_type": "code",
      "source": [
        "%%html\n",
        "<marquee style='width: 30%; color: blue;'><b>Whee!</b></marquee>"
      ],
      "metadata": {
        "id": "VW3a_Vvj7qKd"
      },
      "execution_count": null,
      "outputs": []
    },
    {
      "cell_type": "code",
      "source": [
        "%%html\n",
        "<svg xmlns=\"http://www.w3.org/2000/svg\" viewBox=\"0 0 450 400\" width=\"200\" height=\"200\">\n",
        "  <rect x=\"80\" y=\"60\" width=\"250\" height=\"250\" rx=\"20\" style=\"fill:red; stroke:black; fill-opacity:0.7\" />\n",
        "  <rect x=\"180\" y=\"110\" width=\"250\" height=\"250\" rx=\"40\" style=\"fill:blue; stroke:black; fill-opacity:0.5;\" />\n",
        "</svg>"
      ],
      "metadata": {
        "id": "mbi9Cj-O73ug"
      },
      "execution_count": null,
      "outputs": []
    },
    {
      "cell_type": "markdown",
      "source": [
        "## Ciência de dados\n",
        "\n",
        "Com o Colab, você pode aproveitar todo o potencial das conhecidas bibliotecas Python para analisar e ver dados. A célula de códigos abaixo usa <strong>numpy</strong> para gerar dados aleatórios e <strong>matplotlib</strong> para visualizá-los. Para editar o código, basta clicar na célula e começar a editar."
      ],
      "metadata": {
        "id": "B5uqVvgawori"
      }
    },
    {
      "cell_type": "code",
      "source": [
        "import numpy as np\n",
        "from matplotlib import pyplot as plt\n",
        "\n",
        "ys = 200 + np.random.randn(100)\n",
        "x = [x for x in range(len(ys))]\n",
        "\n",
        "plt.plot(x, ys, '-')\n",
        "plt.fill_between(x, ys, 195, where=(ys > 195), facecolor='g', alpha=0.6)\n",
        "\n",
        "plt.title(\"Sample Visualization\")\n",
        "plt.show()"
      ],
      "metadata": {
        "id": "VQL0rZqGwqRL"
      },
      "execution_count": null,
      "outputs": []
    },
    {
      "cell_type": "markdown",
      "source": [
        "## Atalhos do teclado\n",
        "\n",
        "**Ctrl-Enter:** executa a célula;<br>\n",
        "**Shift-Enter:** **negrito** executa a célula e cria uma nova célula abaixo no modo de comando;<br>\n",
        "**Alt-Enter:** executa a célula e cria uma nova célula abaixo no modo de edição;"
      ],
      "metadata": {
        "id": "2af7pOndyleC"
      }
    },
    {
      "cell_type": "code",
      "source": [
        "x = 1\n",
        "y = 4\n",
        "z = y/(1-x)"
      ],
      "metadata": {
        "id": "c7xplmFo8BmL"
      },
      "execution_count": null,
      "outputs": []
    },
    {
      "cell_type": "code",
      "source": [
        "import time\n",
        "print(\"Sleeping\")\n",
        "time.sleep(30) # sleep for a while; interrupt me!\n",
        "print(\"Done Sleeping\")"
      ],
      "metadata": {
        "id": "qgSV9wPC7T1B"
      },
      "execution_count": null,
      "outputs": []
    },
    {
      "cell_type": "markdown",
      "source": [
        "# **Prática**:\n",
        "para a prática, precisamos entender esses 2 comandos, esses 2 tipos de variáveis e esses 2 operadores:\n",
        "\n",
        "## Comando **print(...)**\n",
        "## Comando **input(...)**\n",
        "\n",
        "\n",
        "---\n",
        "\n",
        "\n",
        "## Números - Inteiros **int()** ou Reais **float()**\n",
        "## Textos - String - \"Olá\" ou 'Olá'\n",
        "\n",
        "\n",
        "---\n",
        "\n",
        "## Operador **`+`**, soma ou junção\n",
        "## Operador **`*`**, multiplicação\n",
        "\n",
        "---"
      ],
      "metadata": {
        "id": "YNShwAT_90cI"
      }
    },
    {
      "cell_type": "markdown",
      "source": [
        "### Saída de Dados "
      ],
      "metadata": {
        "id": "BVC7XNU68wCF"
      }
    },
    {
      "cell_type": "code",
      "source": [
        "print(42)"
      ],
      "metadata": {
        "colab": {
          "base_uri": "https://localhost:8080/"
        },
        "id": "UKHUrdK39K2U",
        "outputId": "974fb7ad-5a1d-4419-823d-a7c752d9f3b3"
      },
      "execution_count": 1,
      "outputs": [
        {
          "output_type": "stream",
          "name": "stdout",
          "text": [
            "42\n"
          ]
        }
      ]
    },
    {
      "cell_type": "code",
      "source": [
        "# parametro\n",
        "print('Meu nome é Lucas')"
      ],
      "metadata": {
        "colab": {
          "base_uri": "https://localhost:8080/"
        },
        "id": "2xc6jwdh8nM3",
        "outputId": "cdab7d4e-e6fa-4950-a43e-da7d0447496c"
      },
      "execution_count": 2,
      "outputs": [
        {
          "output_type": "stream",
          "name": "stdout",
          "text": [
            "Meu nome é Lucas asdasd\n"
          ]
        }
      ]
    },
    {
      "cell_type": "code",
      "source": [
        "print(\"Hello\", \"how are you?\")"
      ],
      "metadata": {
        "colab": {
          "base_uri": "https://localhost:8080/"
        },
        "id": "3We407mJ80g0",
        "outputId": "452e3efe-be7d-445b-c674-80923ef88890"
      },
      "execution_count": 3,
      "outputs": [
        {
          "output_type": "stream",
          "name": "stdout",
          "text": [
            "Hello how are you?\n"
          ]
        }
      ]
    },
    {
      "cell_type": "code",
      "source": [
        "# Variáveis são usadas para guardar valores\n",
        "# 1 valor por vez\n",
        "x = \"maça\"\n",
        "print(x)"
      ],
      "metadata": {
        "id": "cuRPWEHN82CD"
      },
      "execution_count": null,
      "outputs": []
    },
    {
      "cell_type": "code",
      "source": [
        "# + é soma, quando tenho números\n",
        "# + é concatenação, quando temos strings/textos\n",
        "nome = 'Roney'\n",
        "print('Hello, ' + nome + '! How are you?')"
      ],
      "metadata": {
        "id": "N0CuVSVw8-P_"
      },
      "execution_count": null,
      "outputs": []
    },
    {
      "cell_type": "code",
      "source": [
        "nome = 'Pedro'\n",
        "print(f'Hello, {nome}! How are you?')"
      ],
      "metadata": {
        "colab": {
          "base_uri": "https://localhost:8080/"
        },
        "id": "LA7DZp7A8-wL",
        "outputId": "7d04e285-af52-44a5-9db6-d52e88900c8a"
      },
      "execution_count": 5,
      "outputs": [
        {
          "output_type": "stream",
          "name": "stdout",
          "text": [
            "Hello, Pedro! How are you?\n"
          ]
        }
      ]
    },
    {
      "cell_type": "code",
      "source": [
        "print(\"Olá,\\sou o %s\" %(nome))"
      ],
      "metadata": {
        "id": "Lynjvkp99Ab1"
      },
      "execution_count": null,
      "outputs": []
    },
    {
      "cell_type": "code",
      "source": [
        "# \\n é usado para quebra de linha\n",
        "print(f'Hello, {nome}! \\nHow are you?')"
      ],
      "metadata": {
        "id": "EHOpFdI69DDm"
      },
      "execution_count": null,
      "outputs": []
    },
    {
      "cell_type": "code",
      "source": [
        "print('Mercury', 'Venus', 'Earth', sep=', ', end='. ')"
      ],
      "metadata": {
        "id": "PYc_w_Jy9Dxl"
      },
      "execution_count": null,
      "outputs": []
    },
    {
      "cell_type": "code",
      "source": [
        "# String com String   -> + concatenar/juntar\n",
        "# números com números -> + soma\n",
        "'Minha idade é ' + 42"
      ],
      "metadata": {
        "id": "8jQlnu1X9FkX"
      },
      "execution_count": null,
      "outputs": []
    },
    {
      "cell_type": "code",
      "source": [
        "# None, ele é o Nulo, Null, Nil \n",
        "print(None)"
      ],
      "metadata": {
        "id": "DabF4pMD9IFi"
      },
      "execution_count": null,
      "outputs": []
    },
    {
      "cell_type": "markdown",
      "source": [
        "### Entrada de Dados"
      ],
      "metadata": {
        "id": "5k8sOZWU9Psd"
      }
    },
    {
      "cell_type": "code",
      "source": [
        "num = input(\"Digite um número: \")\n",
        "print(\"O número é: \" + num)"
      ],
      "metadata": {
        "colab": {
          "base_uri": "https://localhost:8080/"
        },
        "id": "_3CJZhW19SJy",
        "outputId": "7d8d68b0-a43e-4f7a-b1d5-d51b8e78f557"
      },
      "execution_count": 9,
      "outputs": [
        {
          "output_type": "stream",
          "name": "stdout",
          "text": [
            "Digite um número: 10\n",
            "O número é: 10\n"
          ]
        }
      ]
    },
    {
      "cell_type": "code",
      "source": [
        "login = input(\"Digite o seu Login:\")\n",
        "senha = input(\"Digite a sua Senha:\")"
      ],
      "metadata": {
        "colab": {
          "base_uri": "https://localhost:8080/"
        },
        "id": "amSOf9sf9UEv",
        "outputId": "4855171e-fc10-4040-a758-20559631b375"
      },
      "execution_count": 10,
      "outputs": [
        {
          "name": "stdout",
          "output_type": "stream",
          "text": [
            "Digite o seu Login:admin\n",
            "Digite a sua Senha:admin\n"
          ]
        }
      ]
    },
    {
      "cell_type": "code",
      "source": [
        "matricula = int(input(\"Digite sua Matricula\"))"
      ],
      "metadata": {
        "id": "8wxDsWDB9oxD"
      },
      "execution_count": null,
      "outputs": []
    },
    {
      "cell_type": "code",
      "source": [
        "print(matricula)\n",
        "print(type(matricula))"
      ],
      "metadata": {
        "id": "6ZTmotuv_6Aq"
      },
      "execution_count": null,
      "outputs": []
    },
    {
      "cell_type": "markdown",
      "source": [
        "### EXERCÍCIOS"
      ],
      "metadata": {
        "id": "oUwsUrea9X02"
      }
    },
    {
      "cell_type": "markdown",
      "source": [
        "#### 01 - Faça um algoritmo que peça um nome e imprima-o conforme a frase de exemplo \"O nome digitado é Lucas\""
      ],
      "metadata": {
        "id": "co2f6WYy_-8e"
      }
    },
    {
      "cell_type": "code",
      "source": [
        "nome = input(\"Digite um nome:\")\n",
        "print(\"O nome digitado é \" + nome)"
      ],
      "metadata": {
        "id": "eUrmb-519eB-"
      },
      "execution_count": null,
      "outputs": []
    },
    {
      "cell_type": "markdown",
      "source": [
        "#### 02 - Faça um algoritmo calculadora que peça dois números e imprima a soma dos números.  Imprima o valor da soma conforme o exemplo \"A soma é 12\""
      ],
      "metadata": {
        "id": "QtNcgnTE9dXA"
      }
    },
    {
      "cell_type": "code",
      "source": [
        "num1 = float(input(\"Digite o primeiro número\"))\n",
        "num2 = float(input(\"Digite o segundo número\"))\n",
        "soma = num1 + num2\n",
        "print(soma)"
      ],
      "metadata": {
        "id": "J4UxGNe49hg_"
      },
      "execution_count": null,
      "outputs": []
    }
  ]
}